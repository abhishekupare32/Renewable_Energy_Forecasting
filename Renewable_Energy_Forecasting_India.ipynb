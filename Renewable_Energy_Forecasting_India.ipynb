{
 "cells": [
  {
   "cell_type": "markdown",
   "id": "beb31e51",
   "metadata": {},
   "source": [
    "\n",
    "# 🌱 Renewable Energy Consumption Forecasting (India)\n",
    "**Author:** Abhishek Upare  \n",
    "**Objective:** Analyze and forecast India's renewable energy consumption using Python and the Prophet forecasting model.\n",
    "\n",
    "---\n",
    "\n",
    "### 🧠 Project Steps\n",
    "1. Import libraries  \n",
    "2. Load and inspect the dataset  \n",
    "3. Clean and preprocess the data  \n",
    "4. Perform Exploratory Data Analysis (EDA)  \n",
    "5. Build a forecasting model (Prophet)  \n",
    "6. Visualize results and extract insights  \n"
   ]
  },
  {
   "cell_type": "markdown",
   "id": "8bf68ca4",
   "metadata": {},
   "source": [
    "## Step 1: Import Required Libraries"
   ]
  },
  {
   "cell_type": "code",
   "execution_count": null,
   "id": "8cc8addd",
   "metadata": {},
   "outputs": [],
   "source": [
    "\n",
    "import pandas as pd\n",
    "import numpy as np\n",
    "import matplotlib.pyplot as plt\n",
    "import seaborn as sns\n",
    "from prophet import Prophet\n",
    "import warnings\n",
    "warnings.filterwarnings('ignore')\n",
    "\n",
    "print(\"✅ Libraries imported successfully!\")\n"
   ]
  },
  {
   "cell_type": "markdown",
   "id": "7698c874",
   "metadata": {},
   "source": [
    "## Step 2: Load Dataset"
   ]
  },
  {
   "cell_type": "code",
   "execution_count": null,
   "id": "096aa18a",
   "metadata": {},
   "outputs": [],
   "source": [
    "\n",
    "# Make sure to place your dataset in the same folder as this notebook.\n",
    "# You can download the dataset from Our World in Data (https://ourworldindata.org/renewable-energy)\n",
    "\n",
    "df = pd.read_csv(\"renewable-energy-consumption.csv\")\n",
    "print(\"✅ Dataset loaded successfully!\")\n",
    "df.head()\n"
   ]
  },
  {
   "cell_type": "markdown",
   "id": "7dfe09d2",
   "metadata": {},
   "source": [
    "## Step 3: Check Basic Information"
   ]
  },
  {
   "cell_type": "code",
   "execution_count": null,
   "id": "b38bb807",
   "metadata": {},
   "outputs": [],
   "source": [
    "\n",
    "print(\"Shape of dataset:\", df.shape)\n",
    "print(\"\\nColumns in dataset:\\n\", df.columns)\n",
    "print(\"\\nMissing Values:\\n\", df.isnull().sum())\n",
    "df.describe()\n"
   ]
  },
  {
   "cell_type": "markdown",
   "id": "6d202395",
   "metadata": {},
   "source": [
    "## Step 4: Data Cleaning and Preparation"
   ]
  },
  {
   "cell_type": "code",
   "execution_count": null,
   "id": "36f20f3f",
   "metadata": {},
   "outputs": [],
   "source": [
    "\n",
    "cols = ['country', 'year', 'solar_consumption', 'wind_consumption', \n",
    "        'hydro_consumption', 'biofuel_consumption', 'total_renewable_consumption']\n",
    "\n",
    "df = df[cols]\n",
    "df = df.dropna(subset=['total_renewable_consumption'])\n",
    "df['year'] = df['year'].astype(int)\n",
    "\n",
    "print(\"✅ Data cleaned successfully!\")\n",
    "df.sample(5)\n"
   ]
  },
  {
   "cell_type": "markdown",
   "id": "1ef098e4",
   "metadata": {},
   "source": [
    "## Step 5: Exploratory Data Analysis (EDA)"
   ]
  },
  {
   "cell_type": "code",
   "execution_count": null,
   "id": "ec443d9e",
   "metadata": {},
   "outputs": [],
   "source": [
    "\n",
    "top10 = df[df['year']==2020].sort_values(by='total_renewable_consumption', ascending=False).head(10)\n",
    "plt.figure(figsize=(10,5))\n",
    "sns.barplot(x='country', y='total_renewable_consumption', data=top10, palette='viridis')\n",
    "plt.title(\"Top 10 Countries by Renewable Energy Consumption (2020)\")\n",
    "plt.xticks(rotation=45)\n",
    "plt.show()\n"
   ]
  },
  {
   "cell_type": "code",
   "execution_count": null,
   "id": "8770b995",
   "metadata": {},
   "outputs": [],
   "source": [
    "\n",
    "india = df[df['country']=='India']\n",
    "plt.figure(figsize=(10,5))\n",
    "sns.lineplot(x='year', y='total_renewable_consumption', data=india, label='India', color='green')\n",
    "plt.title(\"India's Renewable Energy Consumption Over Years\")\n",
    "plt.ylabel(\"Total Renewable Consumption (TWh)\")\n",
    "plt.show()\n"
   ]
  },
  {
   "cell_type": "markdown",
   "id": "cce8a5a5",
   "metadata": {},
   "source": [
    "## Step 6: Correlation Heatmap"
   ]
  },
  {
   "cell_type": "code",
   "execution_count": null,
   "id": "e5b74db3",
   "metadata": {},
   "outputs": [],
   "source": [
    "\n",
    "corr = df[['solar_consumption', 'wind_consumption', 'hydro_consumption', \n",
    "           'biofuel_consumption', 'total_renewable_consumption']].corr()\n",
    "\n",
    "plt.figure(figsize=(7,5))\n",
    "sns.heatmap(corr, annot=True, cmap='YlGnBu')\n",
    "plt.title(\"Correlation between Different Energy Sources\")\n",
    "plt.show()\n"
   ]
  },
  {
   "cell_type": "markdown",
   "id": "0333058c",
   "metadata": {},
   "source": [
    "## Step 7: Forecasting with Prophet (India Only)"
   ]
  },
  {
   "cell_type": "code",
   "execution_count": null,
   "id": "333316d5",
   "metadata": {},
   "outputs": [],
   "source": [
    "\n",
    "india_prophet = india[['year', 'total_renewable_consumption']].rename(columns={'year': 'ds', 'total_renewable_consumption': 'y'})\n",
    "india_prophet['ds'] = pd.to_datetime(india_prophet['ds'], format='%Y')\n",
    "\n",
    "model = Prophet()\n",
    "model.fit(india_prophet)\n",
    "\n",
    "future = model.make_future_dataframe(periods=10, freq='Y')\n",
    "forecast = model.predict(future)\n",
    "\n",
    "model.plot(forecast)\n",
    "plt.title(\"Forecast of India's Renewable Energy Consumption (Next 10 Years)\")\n",
    "plt.xlabel(\"Year\")\n",
    "plt.ylabel(\"Total Renewable Consumption (TWh)\")\n",
    "plt.show()\n"
   ]
  },
  {
   "cell_type": "markdown",
   "id": "13a9504b",
   "metadata": {},
   "source": [
    "## Step 8: Forecast Components"
   ]
  },
  {
   "cell_type": "code",
   "execution_count": null,
   "id": "0d7ae2c9",
   "metadata": {},
   "outputs": [],
   "source": [
    "\n",
    "model.plot_components(forecast)\n",
    "plt.show()\n"
   ]
  },
  {
   "cell_type": "markdown",
   "id": "2d2b9072",
   "metadata": {},
   "source": [
    "## Step 9: Insights Summary"
   ]
  },
  {
   "cell_type": "code",
   "execution_count": null,
   "id": "c474e349",
   "metadata": {},
   "outputs": [],
   "source": [
    "\n",
    "print(\"🔍 Insights Summary:\")\n",
    "print(\"1️⃣ India's renewable energy consumption has grown significantly after 2010.\")\n",
    "print(\"2️⃣ Wind and solar energy have become major contributors to total renewable output.\")\n",
    "print(\"3️⃣ The Prophet model forecasts continuous growth over the next decade.\")\n",
    "print(\"4️⃣ Policy focus and investments in renewable infrastructure drive this trend.\")\n"
   ]
  },
  {
   "cell_type": "markdown",
   "id": "85ff7c40",
   "metadata": {},
   "source": [
    "## Step 10: Save Cleaned Data and Forecast Results"
   ]
  },
  {
   "cell_type": "code",
   "execution_count": null,
   "id": "590a8ad6",
   "metadata": {},
   "outputs": [],
   "source": [
    "\n",
    "df.to_csv(\"cleaned_renewable_energy_data.csv\", index=False)\n",
    "forecast.to_csv(\"forecast_results_india.csv\", index=False)\n",
    "print(\"✅ Files saved successfully!\")\n"
   ]
  }
 ],
 "metadata": {},
 "nbformat": 4,
 "nbformat_minor": 5
}